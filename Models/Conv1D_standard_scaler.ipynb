{
 "cells": [
  {
   "cell_type": "code",
   "execution_count": 1,
   "metadata": {
    "colab": {
     "base_uri": "https://localhost:8080/"
    },
    "id": "gYmwJ32KJj9p",
    "outputId": "5aa2fecf-cfd2-42d5-edab-a0637fa0cc60",
    "pycharm": {
     "name": "#%%\n"
    }
   },
   "outputs": [
    {
     "output_type": "stream",
     "name": "stdout",
     "text": [
      "2.9.2\n"
     ]
    }
   ],
   "source": [
    "import tensorflow as tf\n",
    "import numpy as np\n",
    "import os\n",
    "import random\n",
    "import pandas as pd\n",
    "import seaborn as sns\n",
    "import matplotlib.pyplot as plt\n",
    "from sklearn.metrics import accuracy_score, f1_score, precision_score, recall_score\n",
    "from sklearn.metrics import confusion_matrix\n",
    "from tqdm import tqdm\n",
    "import warnings\n",
    "import logging\n",
    "import math\n",
    "\n",
    "tfk = tf.keras\n",
    "tfkl = tf.keras.layers\n",
    "print(tf.__version__)"
   ]
  },
  {
   "cell_type": "code",
   "execution_count": 2,
   "metadata": {
    "id": "mnzS4BKnJuEZ",
    "pycharm": {
     "name": "#%%\n"
    }
   },
   "outputs": [],
   "source": [
    "# Random seed for reproducibility\n",
    "seed = 42\n",
    "\n",
    "random.seed(seed)\n",
    "os.environ['PYTHONHASHSEED'] = str(seed)\n",
    "np.random.seed(seed)\n",
    "tf.random.set_seed(seed)\n",
    "tf.compat.v1.set_random_seed(seed)"
   ]
  },
  {
   "cell_type": "code",
   "execution_count": 7,
   "metadata": {
    "colab": {
     "base_uri": "https://localhost:8080/"
    },
    "id": "vsXTq3lru9SJ",
    "outputId": "caad52c3-0e3d-424c-ea13-ada9f2458c35",
    "pycharm": {
     "name": "#%%\n"
    }
   },
   "outputs": [
    {
     "output_type": "stream",
     "name": "stdout",
     "text": [
      "Mounted at /content/drive\n"
     ]
    }
   ],
   "source": [
    "from google.colab import drive\n",
    "drive.mount('/content/drive')"
   ]
  },
  {
   "cell_type": "code",
   "execution_count": 8,
   "metadata": {
    "colab": {
     "base_uri": "https://localhost:8080/"
    },
    "id": "YQVkdQyAJwUp",
    "outputId": "0635e004-d234-452d-d1b6-5ea93b620a27",
    "pycharm": {
     "name": "#%%\n"
    }
   },
   "outputs": [
    {
     "output_type": "stream",
     "name": "stdout",
     "text": [
      "/content/drive/MyDrive/ANN&DL_Homework2\n"
     ]
    }
   ],
   "source": [
    "%cd /content/drive/MyDrive/ANN&DL_Homework2\n",
    "#!unzip training_dataset_homework2.zip"
   ]
  },
  {
   "cell_type": "code",
   "execution_count": 9,
   "metadata": {
    "id": "UUdLX2IWKU4J",
    "pycharm": {
     "name": "#%%\n"
    }
   },
   "outputs": [],
   "source": [
    "# Load the dataset\n",
    "X =  np.load('x_train.npy')\n",
    "Y = np.load('y_train.npy')"
   ]
  },
  {
   "cell_type": "code",
   "execution_count": 10,
   "metadata": {
    "colab": {
     "base_uri": "https://localhost:8080/"
    },
    "id": "nyhaMvwoLHZq",
    "outputId": "dc47247d-ae2b-46c5-f28a-0bba8cd42461",
    "pycharm": {
     "name": "#%%\n"
    }
   },
   "outputs": [
    {
     "output_type": "execute_result",
     "data": {
      "text/plain": [
       "((2429, 36, 6), (2429,))"
      ]
     },
     "metadata": {},
     "execution_count": 10
    }
   ],
   "source": [
    "X.shape, Y.shape"
   ]
  },
  {
   "cell_type": "code",
   "source": [
    "n_classes = len(np.unique(Y))\n",
    "class_labels = np.unique(Y)\n",
    "print(\"There are {} classes\".format(n_classes))\n",
    "print(\"The labels are: {}\".format(class_labels))"
   ],
   "metadata": {
    "colab": {
     "base_uri": "https://localhost:8080/"
    },
    "id": "xJIngLzK-mOI",
    "outputId": "755a6436-5b53-466f-ac27-dfa67676f68e",
    "pycharm": {
     "name": "#%%\n"
    }
   },
   "execution_count": 11,
   "outputs": [
    {
     "output_type": "stream",
     "name": "stdout",
     "text": [
      "There are 12 classes\n",
      "The labels are: [ 0  1  2  3  4  5  6  7  8  9 10 11]\n"
     ]
    }
   ]
  },
  {
   "cell_type": "code",
   "source": [
    "# Count the number of samples in each class\n",
    "class_labels_count = []\n",
    "for label in class_labels:\n",
    "  class_labels_count.append(sum([1 if Y[i]==label else 0 for i in range(Y.shape[0])]))\n",
    "\n",
    "for i in range(len(class_labels)):\n",
    "  print(\"For label {} there are {} samples\".format(class_labels[i], class_labels_count[i]))"
   ],
   "metadata": {
    "colab": {
     "base_uri": "https://localhost:8080/"
    },
    "id": "S055zsDtH6_W",
    "outputId": "9ddc1525-c8ff-4629-95dc-ce35ff9e09ce",
    "pycharm": {
     "name": "#%%\n"
    }
   },
   "execution_count": 12,
   "outputs": [
    {
     "output_type": "stream",
     "name": "stdout",
     "text": [
      "For label 0 there are 34 samples\n",
      "For label 1 there are 123 samples\n",
      "For label 2 there are 270 samples\n",
      "For label 3 there are 381 samples\n",
      "For label 4 there are 62 samples\n",
      "For label 5 there are 153 samples\n",
      "For label 6 there are 313 samples\n",
      "For label 7 there are 68 samples\n",
      "For label 8 there are 120 samples\n",
      "For label 9 there are 777 samples\n",
      "For label 10 there are 77 samples\n",
      "For label 11 there are 51 samples\n"
     ]
    }
   ]
  },
  {
   "cell_type": "code",
   "source": [
    "def plot_features(x, y, x2=None):\n",
    "  fig, ax = plt.subplots(nrows=2, ncols=3, figsize=(15, 8))\n",
    "  fig.suptitle('Showing the features of label {}'.format(y), fontsize=10)\n",
    "  for i in range(x.shape[1]):\n",
    "    ax[i//3, i%3].plot(x[:,i], 'o--', label='original feature', color='blue')\n",
    "    if x2 is not None:\n",
    "      ax2 = ax[i//3, i%3].twinx()\n",
    "      ax2.plot(x2[:,i], 'o:', label='normalized feature', color='orange')\n",
    "    ax[i//3, i%3].set_title('feature {}'.format(str(i)))\n",
    "    ax[i//3, i%3].legend()\n",
    "  plt.show()"
   ],
   "metadata": {
    "id": "34wmLLV9jorR",
    "pycharm": {
     "name": "#%%\n"
    }
   },
   "execution_count": 13,
   "outputs": []
  },
  {
   "cell_type": "code",
   "source": [
    "# Cum sum is the variable with the starting position of each class\n",
    "cum_sum = np.cumsum(np.array(class_labels_count))\n",
    "cum_sum = np.roll(cum_sum,1)\n",
    "cum_sum[0] = 0\n",
    "cum_sum"
   ],
   "metadata": {
    "colab": {
     "base_uri": "https://localhost:8080/"
    },
    "id": "YIBS_3BYjs-D",
    "outputId": "0b4daf8e-af24-4553-eb38-c5f5d75ce01b",
    "pycharm": {
     "name": "#%%\n"
    }
   },
   "execution_count": 14,
   "outputs": [
    {
     "output_type": "execute_result",
     "data": {
      "text/plain": [
       "array([   0,   34,  157,  427,  808,  870, 1023, 1336, 1404, 1524, 2301,\n",
       "       2378])"
      ]
     },
     "metadata": {},
     "execution_count": 14
    }
   ]
  },
  {
   "cell_type": "code",
   "source": [
    "for elem in cum_sum:\n",
    "  plot_features(X[elem], Y[elem])"
   ],
   "metadata": {
    "id": "H5RV6ONzjq-v",
    "pycharm": {
     "name": "#%%\n"
    }
   },
   "execution_count": null,
   "outputs": []
  },
  {
   "cell_type": "code",
   "source": [
    "from sklearn.model_selection import train_test_split\n",
    "\n",
    "# Split the data in train,val and test set\n",
    "X_train_val, X_test, Y_train_val, Y_test = train_test_split(X, Y, test_size=0.1, shuffle=True, random_state=seed, stratify=Y)\n",
    "X_train, X_val, Y_train, Y_val = train_test_split(X_train_val, Y_train_val, test_size=0.1, shuffle=True, random_state=seed, stratify=Y_train_val)\n",
    "\n",
    "X_train.shape, X_val.shape, X_test.shape, Y_train.shape, Y_val.shape,Y_test.shape"
   ],
   "metadata": {
    "colab": {
     "base_uri": "https://localhost:8080/"
    },
    "id": "Z2gW-EbAFxXk",
    "outputId": "859d957b-c555-400a-c54c-fbdd24412ef6",
    "pycharm": {
     "name": "#%%\n"
    }
   },
   "execution_count": 16,
   "outputs": [
    {
     "output_type": "execute_result",
     "data": {
      "text/plain": [
       "((1967, 36, 6), (219, 36, 6), (243, 36, 6), (1967,), (219,), (243,))"
      ]
     },
     "metadata": {},
     "execution_count": 16
    }
   ]
  },
  {
   "cell_type": "code",
   "source": [
    "# Unroll the training set in order to compute the mean and the std of each feature\n",
    "X_unrolled = np.reshape(X_train, (X_train.shape[0]*X_train.shape[1], X_train.shape[2]))\n",
    "print(X.shape, X_unrolled.shape)\n",
    "\n",
    "X_mean = np.mean(X_unrolled, axis=0)\n",
    "X_std = np.std(X_unrolled, axis=0)"
   ],
   "metadata": {
    "colab": {
     "base_uri": "https://localhost:8080/"
    },
    "id": "xlHO1WxySdoB",
    "outputId": "3927506e-0417-47bd-c489-18458875fcd4",
    "pycharm": {
     "name": "#%%\n"
    }
   },
   "execution_count": 17,
   "outputs": [
    {
     "output_type": "stream",
     "name": "stdout",
     "text": [
      "(2429, 36, 6) (70812, 6)\n"
     ]
    }
   ]
  },
  {
   "cell_type": "code",
   "source": [
    "X_mean.shape, X_std.shape"
   ],
   "metadata": {
    "colab": {
     "base_uri": "https://localhost:8080/"
    },
    "id": "BiUJTwPr6ZwN",
    "outputId": "0380e993-9ffe-4cea-df05-f495d39cd4a8",
    "pycharm": {
     "name": "#%%\n"
    }
   },
   "execution_count": 18,
   "outputs": [
    {
     "output_type": "execute_result",
     "data": {
      "text/plain": [
       "((6,), (6,))"
      ]
     },
     "metadata": {},
     "execution_count": 18
    }
   ]
  },
  {
   "cell_type": "code",
   "source": [
    "print(X_mean)\n",
    "print(X_std)"
   ],
   "metadata": {
    "colab": {
     "base_uri": "https://localhost:8080/"
    },
    "id": "BIbD5JXp6k5c",
    "outputId": "96e65f10-a208-47e5-85be-b1b713a6df57",
    "pycharm": {
     "name": "#%%\n"
    }
   },
   "execution_count": 19,
   "outputs": [
    {
     "output_type": "stream",
     "name": "stdout",
     "text": [
      "[ 8.4409552  11.1070953  21.23054996 27.24076344 30.41101099 26.90711497]\n",
      "[253.58240631 777.2715952  722.72048578 700.70644352 679.74291031\n",
      " 712.47014922]\n"
     ]
    }
   ]
  },
  {
   "cell_type": "code",
   "source": [
    "# Apply the Z-score normalization\n",
    "for i in tqdm(range(X_train.shape[0])):\n",
    "  X_train[i,:,:6] = (X_train[i,:,:6] - X_mean) / X_std\n",
    "for i in tqdm(range(X_val.shape[0])):\n",
    "  X_val[i,:,:6] = (X_val[i,:,:6] - X_mean) / X_std\n",
    "for i in tqdm(range(X_test.shape[0])):\n",
    "  X_test[i,:,:6] = (X_test[i,:,:6] - X_mean) / X_std\n",
    "\n",
    "X_train.shape, X_val.shape, X_test.shape"
   ],
   "metadata": {
    "colab": {
     "base_uri": "https://localhost:8080/"
    },
    "id": "F0JtGpcC6pDv",
    "outputId": "f18a4f56-54ec-48fa-d111-caa663a254f7",
    "pycharm": {
     "name": "#%%\n"
    }
   },
   "execution_count": 20,
   "outputs": [
    {
     "output_type": "stream",
     "name": "stderr",
     "text": [
      "100%|██████████| 1967/1967 [00:00<00:00, 137297.32it/s]\n",
      "100%|██████████| 219/219 [00:00<00:00, 94559.66it/s]\n",
      "100%|██████████| 243/243 [00:00<00:00, 160708.90it/s]\n"
     ]
    },
    {
     "output_type": "execute_result",
     "data": {
      "text/plain": [
       "((1967, 36, 6), (219, 36, 6), (243, 36, 6))"
      ]
     },
     "metadata": {},
     "execution_count": 20
    }
   ]
  },
  {
   "cell_type": "code",
   "execution_count": 21,
   "metadata": {
    "colab": {
     "base_uri": "https://localhost:8080/",
     "height": 336
    },
    "id": "cKql1zakMGgD",
    "outputId": "d1794689-136f-4776-fd41-8609aa1c34a9",
    "pycharm": {
     "name": "#%%\n"
    }
   },
   "outputs": [
    {
     "output_type": "display_data",
     "data": {
      "text/plain": [
       "<Figure size 1224x360 with 1 Axes>"
      ],
      "image/png": "[encoded data removed]"
     },
     "metadata": {
      "needs_background": "light"
     }
    }
   ],
   "source": [
    "# Inspect label distribution\n",
    "plt.figure(figsize=(17,5))\n",
    "plt.bar(x=class_labels, height=class_labels_count)\n",
    "plt.title('Label distributions')\n",
    "plt.show()"
   ]
  },
  {
   "cell_type": "code",
   "execution_count": 22,
   "metadata": {
    "colab": {
     "base_uri": "https://localhost:8080/"
    },
    "id": "bGqoit7kjG0m",
    "outputId": "2f388d56-76cd-4a15-c819-13ad62cd0249",
    "pycharm": {
     "name": "#%%\n"
    }
   },
   "outputs": [
    {
     "output_type": "execute_result",
     "data": {
      "text/plain": [
       "((1967, 12), (219, 12), (243, 12))"
      ]
     },
     "metadata": {},
     "execution_count": 22
    }
   ],
   "source": [
    "# Convert the sparse labels to categorical values\n",
    "Y_train = tfk.utils.to_categorical(Y_train)\n",
    "Y_val = tfk.utils.to_categorical(Y_val)\n",
    "Y_test = tfk.utils.to_categorical(Y_test)\n",
    "\n",
    "Y_train.shape, Y_val.shape, Y_test.shape"
   ]
  },
  {
   "cell_type": "code",
   "source": [
    "def build_network(input_shape, classes):\n",
    "\n",
    "  # Build the neural network layer by layer\n",
    "  input_layer = tfkl.Input(shape=input_shape, name='Input')\n",
    "\n",
    "  # Feature extractor\n",
    "  cnn = tfkl.Conv1D(128,3,padding='same',activation='relu')(input_layer)\n",
    "  cnn = tfkl.Dropout(.1, seed=seed)(cnn)\n",
    "  cnn = tfkl.MaxPooling1D()(cnn)\n",
    "  cnn = tfkl.Conv1D(256,3,padding='same',activation='relu')(cnn) \n",
    "  cnn = tfkl.Dropout(.15, seed=seed)(cnn) \n",
    "  cnn = tfkl.MaxPooling1D()(cnn)\n",
    "  cnn = tfkl.Conv1D(1024,3,padding='same',activation='relu')(cnn)  \n",
    "  cnn = tfkl.Dropout(.2, seed=seed)(cnn)\n",
    "  cnn = tfkl.MaxPooling1D()(cnn)\n",
    "  cnn = tfkl.Conv1D(256,3,padding='same',activation='relu')(cnn)  \n",
    "  cnn = tfkl.Dropout(.25, seed=seed)(cnn)\n",
    "  cnn = tfkl.MaxPooling1D()(cnn)\n",
    "  cnn = tfkl.Conv1D(128,3,padding='same',activation='relu')(cnn)\n",
    "  gap = tfkl.GlobalAveragePooling1D()(cnn)\n",
    "  dropout = tfkl.Dropout(.3, seed=seed)(gap)\n",
    "\n",
    "  # Classifier\n",
    "  classifier = tfkl.Dense(32, activation='relu')(dropout)\n",
    "  output_layer = tfkl.Dense(classes, activation='softmax')(classifier)\n",
    "\n",
    "  # Connect input and output through the Model class\n",
    "  model = tfk.Model(inputs=input_layer, outputs=output_layer, name='model')\n",
    "\n",
    "  # Compile the model\n",
    "  model.compile(loss=tfk.losses.CategoricalCrossentropy(), optimizer=tfk.optimizers.Adam(), metrics='accuracy')\n",
    "\n",
    "  # Return the model\n",
    "  return model"
   ],
   "metadata": {
    "id": "pZ85kU3sCFGV",
    "pycharm": {
     "name": "#%%\n"
    }
   },
   "execution_count": 23,
   "outputs": []
  },
  {
   "cell_type": "code",
   "source": [
    "# Defaining the training params\n",
    "input_shape = X_train.shape[1:]\n",
    "classes = Y_train.shape[-1]\n",
    "batch_size = 64\n",
    "epochs = 200\n",
    "\n",
    "# Build the model\n",
    "model = build_network(input_shape, classes)\n",
    "model.summary()"
   ],
   "metadata": {
    "colab": {
     "base_uri": "https://localhost:8080/"
    },
    "id": "VE1Dtrm5CNSW",
    "outputId": "e6dcd51f-a009-4898-b1f6-12bfbec6f197",
    "pycharm": {
     "name": "#%%\n"
    }
   },
   "execution_count": 30,
   "outputs": [
    {
     "output_type": "stream",
     "name": "stdout",
     "text": [
      "Model: \"model\"\n",
      "_________________________________________________________________\n",
      " Layer (type)                Output Shape              Param #   \n",
      "=================================================================\n",
      " Input (InputLayer)          [(None, 36, 6)]           0         \n",
      "                                                                 \n",
      " conv1d_5 (Conv1D)           (None, 36, 128)           2432      \n",
      "                                                                 \n",
      " dropout_5 (Dropout)         (None, 36, 128)           0         \n",
      "                                                                 \n",
      " max_pooling1d_4 (MaxPooling  (None, 18, 128)          0         \n",
      " 1D)                                                             \n",
      "                                                                 \n",
      " conv1d_6 (Conv1D)           (None, 18, 256)           98560     \n",
      "                                                                 \n",
      " dropout_6 (Dropout)         (None, 18, 256)           0         \n",
      "                                                                 \n",
      " max_pooling1d_5 (MaxPooling  (None, 9, 256)           0         \n",
      " 1D)                                                             \n",
      "                                                                 \n",
      " conv1d_7 (Conv1D)           (None, 9, 1024)           787456    \n",
      "                                                                 \n",
      " dropout_7 (Dropout)         (None, 9, 1024)           0         \n",
      "                                                                 \n",
      " max_pooling1d_6 (MaxPooling  (None, 4, 1024)          0         \n",
      " 1D)                                                             \n",
      "                                                                 \n",
      " conv1d_8 (Conv1D)           (None, 4, 256)            786688    \n",
      "                                                                 \n",
      " dropout_8 (Dropout)         (None, 4, 256)            0         \n",
      "                                                                 \n",
      " max_pooling1d_7 (MaxPooling  (None, 2, 256)           0         \n",
      " 1D)                                                             \n",
      "                                                                 \n",
      " conv1d_9 (Conv1D)           (None, 2, 128)            98432     \n",
      "                                                                 \n",
      " global_average_pooling1d_1   (None, 128)              0         \n",
      " (GlobalAveragePooling1D)                                        \n",
      "                                                                 \n",
      " dropout_9 (Dropout)         (None, 128)               0         \n",
      "                                                                 \n",
      " dense_2 (Dense)             (None, 32)                4128      \n",
      "                                                                 \n",
      " dense_3 (Dense)             (None, 12)                396       \n",
      "                                                                 \n",
      "=================================================================\n",
      "Total params: 1,778,092\n",
      "Trainable params: 1,778,092\n",
      "Non-trainable params: 0\n",
      "_________________________________________________________________\n"
     ]
    }
   ]
  },
  {
   "cell_type": "code",
   "source": [
    "# Train the model\n",
    "history = model.fit(\n",
    "    x = X_train,\n",
    "    y = Y_train,\n",
    "    batch_size = batch_size,\n",
    "    epochs = epochs,\n",
    "    # class_weight=class_weight,\n",
    "    validation_data=(X_val, Y_val),\n",
    "    callbacks = [\n",
    "        tfk.callbacks.EarlyStopping(monitor='val_accuracy', mode='max', patience=30, restore_best_weights=True),\n",
    "        tfk.callbacks.ReduceLROnPlateau(monitor='val_accuracy', mode='max', patience=10, factor=0.5, min_lr=1e-5)\n",
    "    ]\n",
    ").history"
   ],
   "metadata": {
    "colab": {
     "base_uri": "https://localhost:8080/"
    },
    "id": "rL4m42qvCSBi",
    "outputId": "445aad20-9041-49df-bd17-d5ec52491cf4",
    "pycharm": {
     "name": "#%%\n"
    }
   },
   "execution_count": 31,
   "outputs": [
    {
     "output_type": "stream",
     "name": "stdout",
     "text": [
      "Epoch 1/200\n",
      "31/31 [==============================] - 1s 19ms/step - loss: 2.2205 - accuracy: 0.3050 - val_loss: 2.0811 - val_accuracy: 0.3562 - lr: 0.0010\n",
      "Epoch 2/200\n",
      "31/31 [==============================] - 0s 10ms/step - loss: 1.9693 - accuracy: 0.3574 - val_loss: 1.9706 - val_accuracy: 0.3699 - lr: 0.0010\n",
      "Epoch 3/200\n",
      "31/31 [==============================] - 0s 8ms/step - loss: 1.9101 - accuracy: 0.3660 - val_loss: 2.0059 - val_accuracy: 0.3653 - lr: 0.0010\n",
      "Epoch 4/200\n",
      "31/31 [==============================] - 0s 9ms/step - loss: 1.8260 - accuracy: 0.3976 - val_loss: 1.9068 - val_accuracy: 0.3744 - lr: 0.0010\n",
      "Epoch 5/200\n",
      "31/31 [==============================] - 0s 9ms/step - loss: 1.7527 - accuracy: 0.4174 - val_loss: 1.7831 - val_accuracy: 0.4521 - lr: 0.0010\n",
      "Epoch 6/200\n",
      "31/31 [==============================] - 0s 9ms/step - loss: 1.6724 - accuracy: 0.4423 - val_loss: 1.7428 - val_accuracy: 0.4977 - lr: 0.0010\n",
      "Epoch 7/200\n",
      "31/31 [==============================] - 0s 9ms/step - loss: 1.5108 - accuracy: 0.5018 - val_loss: 1.4447 - val_accuracy: 0.5114 - lr: 0.0010\n",
      "Epoch 8/200\n",
      "31/31 [==============================] - 0s 9ms/step - loss: 1.4357 - accuracy: 0.5201 - val_loss: 1.5084 - val_accuracy: 0.5251 - lr: 0.0010\n",
      "Epoch 9/200\n",
      "31/31 [==============================] - 0s 8ms/step - loss: 1.3224 - accuracy: 0.5480 - val_loss: 1.3085 - val_accuracy: 0.5571 - lr: 0.0010\n",
      "Epoch 10/200\n",
      "31/31 [==============================] - 0s 8ms/step - loss: 1.2451 - accuracy: 0.5862 - val_loss: 1.2838 - val_accuracy: 0.5845 - lr: 0.0010\n",
      "Epoch 11/200\n",
      "31/31 [==============================] - 0s 8ms/step - loss: 1.1944 - accuracy: 0.6121 - val_loss: 1.2898 - val_accuracy: 0.5616 - lr: 0.0010\n",
      "Epoch 12/200\n",
      "31/31 [==============================] - 0s 8ms/step - loss: 1.3509 - accuracy: 0.5724 - val_loss: 1.3038 - val_accuracy: 0.6027 - lr: 0.0010\n",
      "Epoch 13/200\n",
      "31/31 [==============================] - 0s 8ms/step - loss: 1.1838 - accuracy: 0.6070 - val_loss: 1.1767 - val_accuracy: 0.6301 - lr: 0.0010\n",
      "Epoch 14/200\n",
      "31/31 [==============================] - 0s 9ms/step - loss: 1.1598 - accuracy: 0.6080 - val_loss: 1.2458 - val_accuracy: 0.6164 - lr: 0.0010\n",
      "Epoch 15/200\n",
      "31/31 [==============================] - 0s 8ms/step - loss: 1.0975 - accuracy: 0.6284 - val_loss: 1.2023 - val_accuracy: 0.5616 - lr: 0.0010\n",
      "Epoch 16/200\n",
      "31/31 [==============================] - 0s 8ms/step - loss: 1.0608 - accuracy: 0.6528 - val_loss: 1.1840 - val_accuracy: 0.6119 - lr: 0.0010\n",
      "Epoch 17/200\n",
      "31/31 [==============================] - 0s 8ms/step - loss: 1.0591 - accuracy: 0.6365 - val_loss: 1.3361 - val_accuracy: 0.5571 - lr: 0.0010\n",
      "Epoch 18/200\n",
      "31/31 [==============================] - 0s 8ms/step - loss: 1.0995 - accuracy: 0.6294 - val_loss: 1.1641 - val_accuracy: 0.5982 - lr: 0.0010\n",
      "Epoch 19/200\n",
      "31/31 [==============================] - 0s 8ms/step - loss: 1.0162 - accuracy: 0.6548 - val_loss: 1.2001 - val_accuracy: 0.5708 - lr: 0.0010\n",
      "Epoch 20/200\n",
      "31/31 [==============================] - 0s 9ms/step - loss: 1.0068 - accuracy: 0.6538 - val_loss: 1.2019 - val_accuracy: 0.5890 - lr: 0.0010\n",
      "Epoch 21/200\n",
      "31/31 [==============================] - 0s 9ms/step - loss: 0.9400 - accuracy: 0.6807 - val_loss: 1.0884 - val_accuracy: 0.6438 - lr: 0.0010\n",
      "Epoch 22/200\n",
      "31/31 [==============================] - 0s 9ms/step - loss: 0.9779 - accuracy: 0.6619 - val_loss: 1.1298 - val_accuracy: 0.6210 - lr: 0.0010\n",
      "Epoch 23/200\n",
      "31/31 [==============================] - 0s 8ms/step - loss: 0.9925 - accuracy: 0.6731 - val_loss: 1.0729 - val_accuracy: 0.6438 - lr: 0.0010\n",
      "Epoch 24/200\n",
      "31/31 [==============================] - 0s 8ms/step - loss: 0.9135 - accuracy: 0.6873 - val_loss: 1.0647 - val_accuracy: 0.6530 - lr: 0.0010\n",
      "Epoch 25/200\n",
      "31/31 [==============================] - 0s 8ms/step - loss: 0.8917 - accuracy: 0.6960 - val_loss: 1.2088 - val_accuracy: 0.5936 - lr: 0.0010\n",
      "Epoch 26/200\n",
      "31/31 [==============================] - 0s 9ms/step - loss: 0.9317 - accuracy: 0.6884 - val_loss: 1.1302 - val_accuracy: 0.6393 - lr: 0.0010\n",
      "Epoch 27/200\n",
      "31/31 [==============================] - 0s 9ms/step - loss: 1.0300 - accuracy: 0.6675 - val_loss: 1.1541 - val_accuracy: 0.6438 - lr: 0.0010\n",
      "Epoch 28/200\n",
      "31/31 [==============================] - 0s 8ms/step - loss: 0.9524 - accuracy: 0.6756 - val_loss: 1.1638 - val_accuracy: 0.6438 - lr: 0.0010\n",
      "Epoch 29/200\n",
      "31/31 [==============================] - 0s 8ms/step - loss: 0.8942 - accuracy: 0.7031 - val_loss: 1.0628 - val_accuracy: 0.6575 - lr: 0.0010\n",
      "Epoch 30/200\n",
      "31/31 [==============================] - 0s 8ms/step - loss: 0.8850 - accuracy: 0.7011 - val_loss: 1.0965 - val_accuracy: 0.6438 - lr: 0.0010\n",
      "Epoch 31/200\n",
      "31/31 [==============================] - 0s 9ms/step - loss: 0.8079 - accuracy: 0.7214 - val_loss: 1.0490 - val_accuracy: 0.6758 - lr: 0.0010\n",
      "Epoch 32/200\n",
      "31/31 [==============================] - 0s 8ms/step - loss: 0.7619 - accuracy: 0.7372 - val_loss: 1.0637 - val_accuracy: 0.6667 - lr: 0.0010\n",
      "Epoch 33/200\n",
      "31/31 [==============================] - 0s 9ms/step - loss: 0.7330 - accuracy: 0.7478 - val_loss: 1.1098 - val_accuracy: 0.6804 - lr: 0.0010\n",
      "Epoch 34/200\n",
      "31/31 [==============================] - 0s 9ms/step - loss: 0.7232 - accuracy: 0.7453 - val_loss: 1.1202 - val_accuracy: 0.6667 - lr: 0.0010\n",
      "Epoch 35/200\n",
      "31/31 [==============================] - 0s 9ms/step - loss: 0.7521 - accuracy: 0.7387 - val_loss: 1.0955 - val_accuracy: 0.6849 - lr: 0.0010\n",
      "Epoch 36/200\n",
      "31/31 [==============================] - 0s 8ms/step - loss: 0.7155 - accuracy: 0.7494 - val_loss: 1.0958 - val_accuracy: 0.6575 - lr: 0.0010\n",
      "Epoch 37/200\n",
      "31/31 [==============================] - 0s 8ms/step - loss: 0.6788 - accuracy: 0.7514 - val_loss: 1.0975 - val_accuracy: 0.6530 - lr: 0.0010\n",
      "Epoch 38/200\n",
      "31/31 [==============================] - 0s 8ms/step - loss: 0.6614 - accuracy: 0.7656 - val_loss: 1.1254 - val_accuracy: 0.6256 - lr: 0.0010\n",
      "Epoch 39/200\n",
      "31/31 [==============================] - 0s 8ms/step - loss: 0.6633 - accuracy: 0.7651 - val_loss: 1.0545 - val_accuracy: 0.6895 - lr: 0.0010\n",
      "Epoch 40/200\n",
      "31/31 [==============================] - 0s 8ms/step - loss: 0.6520 - accuracy: 0.7844 - val_loss: 1.1222 - val_accuracy: 0.6712 - lr: 0.0010\n",
      "Epoch 41/200\n",
      "31/31 [==============================] - 0s 8ms/step - loss: 0.6359 - accuracy: 0.7748 - val_loss: 1.2397 - val_accuracy: 0.6575 - lr: 0.0010\n",
      "Epoch 42/200\n",
      "31/31 [==============================] - 0s 9ms/step - loss: 0.5948 - accuracy: 0.7890 - val_loss: 1.1482 - val_accuracy: 0.6758 - lr: 0.0010\n",
      "Epoch 43/200\n",
      "31/31 [==============================] - 0s 8ms/step - loss: 0.6181 - accuracy: 0.7900 - val_loss: 1.0936 - val_accuracy: 0.6758 - lr: 0.0010\n",
      "Epoch 44/200\n",
      "31/31 [==============================] - 0s 9ms/step - loss: 0.6181 - accuracy: 0.7865 - val_loss: 1.0365 - val_accuracy: 0.6986 - lr: 0.0010\n",
      "Epoch 45/200\n",
      "31/31 [==============================] - 0s 9ms/step - loss: 0.5594 - accuracy: 0.8124 - val_loss: 1.1132 - val_accuracy: 0.6758 - lr: 0.0010\n",
      "Epoch 46/200\n",
      "31/31 [==============================] - 0s 8ms/step - loss: 0.5560 - accuracy: 0.8114 - val_loss: 1.1023 - val_accuracy: 0.6804 - lr: 0.0010\n",
      "Epoch 47/200\n",
      "31/31 [==============================] - 0s 9ms/step - loss: 0.5905 - accuracy: 0.8038 - val_loss: 1.0197 - val_accuracy: 0.7123 - lr: 0.0010\n",
      "Epoch 48/200\n",
      "31/31 [==============================] - 0s 8ms/step - loss: 0.5460 - accuracy: 0.8190 - val_loss: 1.1229 - val_accuracy: 0.6941 - lr: 0.0010\n",
      "Epoch 49/200\n",
      "31/31 [==============================] - 0s 9ms/step - loss: 0.6209 - accuracy: 0.8251 - val_loss: 1.2023 - val_accuracy: 0.6438 - lr: 0.0010\n",
      "Epoch 50/200\n",
      "31/31 [==============================] - 0s 8ms/step - loss: 0.6236 - accuracy: 0.7900 - val_loss: 1.2021 - val_accuracy: 0.6484 - lr: 0.0010\n",
      "Epoch 51/200\n",
      "31/31 [==============================] - 0s 8ms/step - loss: 0.5337 - accuracy: 0.8144 - val_loss: 1.2507 - val_accuracy: 0.6758 - lr: 0.0010\n",
      "Epoch 52/200\n",
      "31/31 [==============================] - 0s 8ms/step - loss: 0.5358 - accuracy: 0.8236 - val_loss: 1.3830 - val_accuracy: 0.6712 - lr: 0.0010\n",
      "Epoch 53/200\n",
      "31/31 [==============================] - 0s 8ms/step - loss: 0.6244 - accuracy: 0.8063 - val_loss: 1.2546 - val_accuracy: 0.6575 - lr: 0.0010\n",
      "Epoch 54/200\n",
      "31/31 [==============================] - 0s 8ms/step - loss: 0.5195 - accuracy: 0.8205 - val_loss: 1.2573 - val_accuracy: 0.6758 - lr: 0.0010\n",
      "Epoch 55/200\n",
      "31/31 [==============================] - 0s 8ms/step - loss: 0.5633 - accuracy: 0.8139 - val_loss: 1.1932 - val_accuracy: 0.6849 - lr: 0.0010\n",
      "Epoch 56/200\n",
      "31/31 [==============================] - 0s 9ms/step - loss: 0.4800 - accuracy: 0.8282 - val_loss: 1.2263 - val_accuracy: 0.6804 - lr: 0.0010\n",
      "Epoch 57/200\n",
      "31/31 [==============================] - 0s 8ms/step - loss: 0.4335 - accuracy: 0.8444 - val_loss: 1.1160 - val_accuracy: 0.6941 - lr: 0.0010\n",
      "Epoch 58/200\n",
      "31/31 [==============================] - 0s 8ms/step - loss: 0.3639 - accuracy: 0.8805 - val_loss: 1.1836 - val_accuracy: 0.6941 - lr: 5.0000e-04\n",
      "Epoch 59/200\n",
      "31/31 [==============================] - 0s 9ms/step - loss: 0.3920 - accuracy: 0.8704 - val_loss: 1.2501 - val_accuracy: 0.6621 - lr: 5.0000e-04\n",
      "Epoch 60/200\n",
      "31/31 [==============================] - 0s 9ms/step - loss: 0.3517 - accuracy: 0.8836 - val_loss: 1.1397 - val_accuracy: 0.7169 - lr: 5.0000e-04\n",
      "Epoch 61/200\n",
      "31/31 [==============================] - 0s 9ms/step - loss: 0.3336 - accuracy: 0.8856 - val_loss: 1.2985 - val_accuracy: 0.6941 - lr: 5.0000e-04\n",
      "Epoch 62/200\n",
      "31/31 [==============================] - 0s 8ms/step - loss: 0.3410 - accuracy: 0.8912 - val_loss: 1.2497 - val_accuracy: 0.6941 - lr: 5.0000e-04\n",
      "Epoch 63/200\n",
      "31/31 [==============================] - 0s 9ms/step - loss: 0.3291 - accuracy: 0.8805 - val_loss: 1.2000 - val_accuracy: 0.6849 - lr: 5.0000e-04\n",
      "Epoch 64/200\n",
      "31/31 [==============================] - 0s 9ms/step - loss: 0.2840 - accuracy: 0.9085 - val_loss: 1.2789 - val_accuracy: 0.7215 - lr: 5.0000e-04\n",
      "Epoch 65/200\n",
      "31/31 [==============================] - 0s 8ms/step - loss: 0.2502 - accuracy: 0.9187 - val_loss: 1.3075 - val_accuracy: 0.6986 - lr: 5.0000e-04\n",
      "Epoch 66/200\n",
      "31/31 [==============================] - 0s 8ms/step - loss: 0.2590 - accuracy: 0.9136 - val_loss: 1.3205 - val_accuracy: 0.7078 - lr: 5.0000e-04\n",
      "Epoch 67/200\n",
      "31/31 [==============================] - 0s 8ms/step - loss: 0.2499 - accuracy: 0.9131 - val_loss: 1.3545 - val_accuracy: 0.6804 - lr: 5.0000e-04\n",
      "Epoch 68/200\n",
      "31/31 [==============================] - 0s 8ms/step - loss: 0.2333 - accuracy: 0.9212 - val_loss: 1.3664 - val_accuracy: 0.6849 - lr: 5.0000e-04\n",
      "Epoch 69/200\n",
      "31/31 [==============================] - 0s 8ms/step - loss: 0.2462 - accuracy: 0.9151 - val_loss: 1.4039 - val_accuracy: 0.7078 - lr: 5.0000e-04\n",
      "Epoch 70/200\n",
      "31/31 [==============================] - 0s 8ms/step - loss: 0.2427 - accuracy: 0.9192 - val_loss: 1.3837 - val_accuracy: 0.7123 - lr: 5.0000e-04\n",
      "Epoch 71/200\n",
      "31/31 [==============================] - 0s 8ms/step - loss: 0.2221 - accuracy: 0.9232 - val_loss: 1.4476 - val_accuracy: 0.7032 - lr: 5.0000e-04\n",
      "Epoch 72/200\n",
      "31/31 [==============================] - 0s 9ms/step - loss: 0.2378 - accuracy: 0.9258 - val_loss: 1.3853 - val_accuracy: 0.6804 - lr: 5.0000e-04\n",
      "Epoch 73/200\n",
      "31/31 [==============================] - 0s 9ms/step - loss: 0.2200 - accuracy: 0.9263 - val_loss: 1.6180 - val_accuracy: 0.6986 - lr: 5.0000e-04\n",
      "Epoch 74/200\n",
      "31/31 [==============================] - 0s 8ms/step - loss: 0.2236 - accuracy: 0.9197 - val_loss: 1.3384 - val_accuracy: 0.6667 - lr: 5.0000e-04\n",
      "Epoch 75/200\n",
      "31/31 [==============================] - 0s 9ms/step - loss: 0.2078 - accuracy: 0.9253 - val_loss: 1.4706 - val_accuracy: 0.6895 - lr: 2.5000e-04\n",
      "Epoch 76/200\n",
      "31/31 [==============================] - 0s 9ms/step - loss: 0.1885 - accuracy: 0.9334 - val_loss: 1.4366 - val_accuracy: 0.7169 - lr: 2.5000e-04\n",
      "Epoch 77/200\n",
      "31/31 [==============================] - 0s 9ms/step - loss: 0.1662 - accuracy: 0.9471 - val_loss: 1.4031 - val_accuracy: 0.7169 - lr: 2.5000e-04\n",
      "Epoch 78/200\n",
      "31/31 [==============================] - 0s 11ms/step - loss: 0.1640 - accuracy: 0.9426 - val_loss: 1.4369 - val_accuracy: 0.6849 - lr: 2.5000e-04\n",
      "Epoch 79/200\n",
      "31/31 [==============================] - 0s 11ms/step - loss: 0.1733 - accuracy: 0.9446 - val_loss: 1.5579 - val_accuracy: 0.6986 - lr: 2.5000e-04\n",
      "Epoch 80/200\n",
      "31/31 [==============================] - 0s 10ms/step - loss: 0.1501 - accuracy: 0.9527 - val_loss: 1.5300 - val_accuracy: 0.6986 - lr: 2.5000e-04\n",
      "Epoch 81/200\n",
      "31/31 [==============================] - 0s 12ms/step - loss: 0.1658 - accuracy: 0.9436 - val_loss: 1.4987 - val_accuracy: 0.6758 - lr: 2.5000e-04\n",
      "Epoch 82/200\n",
      "31/31 [==============================] - 0s 12ms/step - loss: 0.1638 - accuracy: 0.9471 - val_loss: 1.6372 - val_accuracy: 0.6895 - lr: 2.5000e-04\n",
      "Epoch 83/200\n",
      "31/31 [==============================] - 0s 10ms/step - loss: 0.1636 - accuracy: 0.9471 - val_loss: 1.5295 - val_accuracy: 0.6712 - lr: 2.5000e-04\n",
      "Epoch 84/200\n",
      "31/31 [==============================] - 0s 11ms/step - loss: 0.1449 - accuracy: 0.9507 - val_loss: 1.6748 - val_accuracy: 0.6849 - lr: 2.5000e-04\n",
      "Epoch 85/200\n",
      "31/31 [==============================] - 0s 10ms/step - loss: 0.1425 - accuracy: 0.9517 - val_loss: 1.5455 - val_accuracy: 0.7032 - lr: 1.2500e-04\n",
      "Epoch 86/200\n",
      "31/31 [==============================] - 0s 10ms/step - loss: 0.1306 - accuracy: 0.9619 - val_loss: 1.5482 - val_accuracy: 0.6804 - lr: 1.2500e-04\n",
      "Epoch 87/200\n",
      "31/31 [==============================] - 1s 17ms/step - loss: 0.1479 - accuracy: 0.9507 - val_loss: 1.6105 - val_accuracy: 0.7123 - lr: 1.2500e-04\n",
      "Epoch 88/200\n",
      "31/31 [==============================] - 0s 13ms/step - loss: 0.1422 - accuracy: 0.9553 - val_loss: 1.5705 - val_accuracy: 0.6849 - lr: 1.2500e-04\n",
      "Epoch 89/200\n",
      "31/31 [==============================] - 0s 8ms/step - loss: 0.1289 - accuracy: 0.9563 - val_loss: 1.5934 - val_accuracy: 0.7032 - lr: 1.2500e-04\n",
      "Epoch 90/200\n",
      "31/31 [==============================] - 0s 13ms/step - loss: 0.1335 - accuracy: 0.9578 - val_loss: 1.6260 - val_accuracy: 0.7169 - lr: 1.2500e-04\n",
      "Epoch 91/200\n",
      "31/31 [==============================] - 1s 16ms/step - loss: 0.1274 - accuracy: 0.9573 - val_loss: 1.6161 - val_accuracy: 0.6895 - lr: 1.2500e-04\n",
      "Epoch 92/200\n",
      "31/31 [==============================] - 0s 9ms/step - loss: 0.1215 - accuracy: 0.9629 - val_loss: 1.6426 - val_accuracy: 0.7260 - lr: 1.2500e-04\n",
      "Epoch 93/200\n",
      "31/31 [==============================] - 0s 13ms/step - loss: 0.1340 - accuracy: 0.9527 - val_loss: 1.6595 - val_accuracy: 0.6849 - lr: 1.2500e-04\n",
      "Epoch 94/200\n",
      "31/31 [==============================] - 0s 15ms/step - loss: 0.1410 - accuracy: 0.9492 - val_loss: 1.6697 - val_accuracy: 0.7032 - lr: 1.2500e-04\n",
      "Epoch 95/200\n",
      "31/31 [==============================] - 0s 8ms/step - loss: 0.1236 - accuracy: 0.9614 - val_loss: 1.6349 - val_accuracy: 0.7169 - lr: 1.2500e-04\n",
      "Epoch 96/200\n",
      "31/31 [==============================] - 0s 9ms/step - loss: 0.1364 - accuracy: 0.9542 - val_loss: 1.5993 - val_accuracy: 0.7123 - lr: 1.2500e-04\n",
      "Epoch 97/200\n",
      "31/31 [==============================] - 0s 8ms/step - loss: 0.1218 - accuracy: 0.9603 - val_loss: 1.6592 - val_accuracy: 0.7123 - lr: 1.2500e-04\n",
      "Epoch 98/200\n",
      "31/31 [==============================] - 0s 9ms/step - loss: 0.1165 - accuracy: 0.9639 - val_loss: 1.6769 - val_accuracy: 0.7169 - lr: 1.2500e-04\n",
      "Epoch 99/200\n",
      "31/31 [==============================] - 0s 9ms/step - loss: 0.1237 - accuracy: 0.9609 - val_loss: 1.6624 - val_accuracy: 0.7215 - lr: 1.2500e-04\n",
      "Epoch 100/200\n",
      "31/31 [==============================] - 0s 8ms/step - loss: 0.1270 - accuracy: 0.9593 - val_loss: 1.7015 - val_accuracy: 0.7123 - lr: 1.2500e-04\n",
      "Epoch 101/200\n",
      "31/31 [==============================] - 0s 9ms/step - loss: 0.1285 - accuracy: 0.9573 - val_loss: 1.7201 - val_accuracy: 0.7169 - lr: 1.2500e-04\n",
      "Epoch 102/200\n",
      "31/31 [==============================] - 0s 8ms/step - loss: 0.1246 - accuracy: 0.9568 - val_loss: 1.7136 - val_accuracy: 0.7215 - lr: 1.2500e-04\n",
      "Epoch 103/200\n",
      "31/31 [==============================] - 0s 9ms/step - loss: 0.1193 - accuracy: 0.9609 - val_loss: 1.6850 - val_accuracy: 0.7169 - lr: 6.2500e-05\n",
      "Epoch 104/200\n",
      "31/31 [==============================] - 0s 9ms/step - loss: 0.1022 - accuracy: 0.9639 - val_loss: 1.6972 - val_accuracy: 0.7032 - lr: 6.2500e-05\n",
      "Epoch 105/200\n",
      "31/31 [==============================] - 0s 9ms/step - loss: 0.1117 - accuracy: 0.9654 - val_loss: 1.7403 - val_accuracy: 0.6986 - lr: 6.2500e-05\n",
      "Epoch 106/200\n",
      "31/31 [==============================] - 0s 9ms/step - loss: 0.1170 - accuracy: 0.9593 - val_loss: 1.6865 - val_accuracy: 0.7169 - lr: 6.2500e-05\n",
      "Epoch 107/200\n",
      "31/31 [==============================] - 0s 9ms/step - loss: 0.0990 - accuracy: 0.9690 - val_loss: 1.6641 - val_accuracy: 0.7123 - lr: 6.2500e-05\n",
      "Epoch 108/200\n",
      "31/31 [==============================] - 0s 9ms/step - loss: 0.1179 - accuracy: 0.9583 - val_loss: 1.7247 - val_accuracy: 0.6986 - lr: 6.2500e-05\n",
      "Epoch 109/200\n",
      "31/31 [==============================] - 0s 9ms/step - loss: 0.1049 - accuracy: 0.9644 - val_loss: 1.7164 - val_accuracy: 0.7306 - lr: 6.2500e-05\n",
      "Epoch 110/200\n",
      "31/31 [==============================] - 0s 8ms/step - loss: 0.1063 - accuracy: 0.9659 - val_loss: 1.7338 - val_accuracy: 0.7215 - lr: 6.2500e-05\n",
      "Epoch 111/200\n",
      "31/31 [==============================] - 0s 9ms/step - loss: 0.1065 - accuracy: 0.9695 - val_loss: 1.7521 - val_accuracy: 0.7260 - lr: 6.2500e-05\n",
      "Epoch 112/200\n",
      "31/31 [==============================] - 0s 9ms/step - loss: 0.1037 - accuracy: 0.9685 - val_loss: 1.7592 - val_accuracy: 0.7260 - lr: 6.2500e-05\n",
      "Epoch 113/200\n",
      "31/31 [==============================] - 0s 9ms/step - loss: 0.1077 - accuracy: 0.9715 - val_loss: 1.7099 - val_accuracy: 0.7260 - lr: 6.2500e-05\n",
      "Epoch 114/200\n",
      "31/31 [==============================] - 0s 9ms/step - loss: 0.1088 - accuracy: 0.9619 - val_loss: 1.7382 - val_accuracy: 0.7078 - lr: 6.2500e-05\n",
      "Epoch 115/200\n",
      "31/31 [==============================] - 0s 9ms/step - loss: 0.1166 - accuracy: 0.9629 - val_loss: 1.7481 - val_accuracy: 0.6986 - lr: 6.2500e-05\n",
      "Epoch 116/200\n",
      "31/31 [==============================] - 0s 9ms/step - loss: 0.0999 - accuracy: 0.9710 - val_loss: 1.7999 - val_accuracy: 0.6941 - lr: 6.2500e-05\n",
      "Epoch 117/200\n",
      "31/31 [==============================] - 0s 8ms/step - loss: 0.1115 - accuracy: 0.9583 - val_loss: 1.7704 - val_accuracy: 0.6895 - lr: 6.2500e-05\n",
      "Epoch 118/200\n",
      "31/31 [==============================] - 0s 9ms/step - loss: 0.1061 - accuracy: 0.9675 - val_loss: 1.7908 - val_accuracy: 0.7306 - lr: 6.2500e-05\n",
      "Epoch 119/200\n",
      "31/31 [==============================] - 0s 9ms/step - loss: 0.0945 - accuracy: 0.9675 - val_loss: 1.8077 - val_accuracy: 0.7169 - lr: 6.2500e-05\n",
      "Epoch 120/200\n",
      "31/31 [==============================] - 0s 8ms/step - loss: 0.1067 - accuracy: 0.9649 - val_loss: 1.7824 - val_accuracy: 0.7306 - lr: 3.1250e-05\n",
      "Epoch 121/200\n",
      "31/31 [==============================] - 0s 9ms/step - loss: 0.1108 - accuracy: 0.9664 - val_loss: 1.7785 - val_accuracy: 0.7260 - lr: 3.1250e-05\n",
      "Epoch 122/200\n",
      "31/31 [==============================] - 0s 9ms/step - loss: 0.0958 - accuracy: 0.9690 - val_loss: 1.7836 - val_accuracy: 0.7169 - lr: 3.1250e-05\n",
      "Epoch 123/200\n",
      "31/31 [==============================] - 0s 9ms/step - loss: 0.0950 - accuracy: 0.9700 - val_loss: 1.7585 - val_accuracy: 0.7215 - lr: 3.1250e-05\n",
      "Epoch 124/200\n",
      "31/31 [==============================] - 0s 8ms/step - loss: 0.0911 - accuracy: 0.9720 - val_loss: 1.7833 - val_accuracy: 0.7215 - lr: 3.1250e-05\n",
      "Epoch 125/200\n",
      "31/31 [==============================] - 0s 9ms/step - loss: 0.0973 - accuracy: 0.9710 - val_loss: 1.7955 - val_accuracy: 0.7215 - lr: 3.1250e-05\n",
      "Epoch 126/200\n",
      "31/31 [==============================] - 0s 9ms/step - loss: 0.0915 - accuracy: 0.9685 - val_loss: 1.7802 - val_accuracy: 0.7078 - lr: 3.1250e-05\n",
      "Epoch 127/200\n",
      "31/31 [==============================] - 0s 9ms/step - loss: 0.0920 - accuracy: 0.9720 - val_loss: 1.7897 - val_accuracy: 0.7260 - lr: 3.1250e-05\n",
      "Epoch 128/200\n",
      "31/31 [==============================] - 0s 8ms/step - loss: 0.1000 - accuracy: 0.9690 - val_loss: 1.7918 - val_accuracy: 0.7169 - lr: 3.1250e-05\n",
      "Epoch 129/200\n",
      "31/31 [==============================] - 0s 9ms/step - loss: 0.0982 - accuracy: 0.9690 - val_loss: 1.7858 - val_accuracy: 0.7215 - lr: 3.1250e-05\n",
      "Epoch 130/200\n",
      "31/31 [==============================] - 0s 8ms/step - loss: 0.0987 - accuracy: 0.9680 - val_loss: 1.7824 - val_accuracy: 0.7169 - lr: 1.5625e-05\n",
      "Epoch 131/200\n",
      "31/31 [==============================] - 0s 9ms/step - loss: 0.0927 - accuracy: 0.9715 - val_loss: 1.7892 - val_accuracy: 0.7260 - lr: 1.5625e-05\n",
      "Epoch 132/200\n",
      "31/31 [==============================] - 0s 9ms/step - loss: 0.0899 - accuracy: 0.9725 - val_loss: 1.8003 - val_accuracy: 0.7306 - lr: 1.5625e-05\n",
      "Epoch 133/200\n",
      "31/31 [==============================] - 0s 9ms/step - loss: 0.0872 - accuracy: 0.9746 - val_loss: 1.7861 - val_accuracy: 0.7123 - lr: 1.5625e-05\n",
      "Epoch 134/200\n",
      "31/31 [==============================] - 0s 8ms/step - loss: 0.1070 - accuracy: 0.9644 - val_loss: 1.7863 - val_accuracy: 0.7215 - lr: 1.5625e-05\n",
      "Epoch 135/200\n",
      "31/31 [==============================] - 0s 8ms/step - loss: 0.0976 - accuracy: 0.9685 - val_loss: 1.7956 - val_accuracy: 0.7215 - lr: 1.5625e-05\n",
      "Epoch 136/200\n",
      "31/31 [==============================] - 0s 9ms/step - loss: 0.0911 - accuracy: 0.9741 - val_loss: 1.8036 - val_accuracy: 0.7215 - lr: 1.5625e-05\n",
      "Epoch 137/200\n",
      "31/31 [==============================] - 0s 8ms/step - loss: 0.0978 - accuracy: 0.9685 - val_loss: 1.7958 - val_accuracy: 0.7215 - lr: 1.5625e-05\n",
      "Epoch 138/200\n",
      "31/31 [==============================] - 0s 9ms/step - loss: 0.0995 - accuracy: 0.9644 - val_loss: 1.7850 - val_accuracy: 0.7260 - lr: 1.5625e-05\n",
      "Epoch 139/200\n",
      "31/31 [==============================] - 0s 9ms/step - loss: 0.0901 - accuracy: 0.9736 - val_loss: 1.8025 - val_accuracy: 0.7260 - lr: 1.5625e-05\n"
     ]
    }
   ]
  },
  {
   "cell_type": "code",
   "source": [
    "best_epoch = np.argmax(history['val_accuracy'])\n",
    "plt.figure(figsize=(17,4))\n",
    "plt.plot(history['loss'], label='Training loss', alpha=.8, color='#ff7f0e')\n",
    "plt.plot(history['val_loss'], label='Validation loss', alpha=.9, color='#5a9aa5')\n",
    "plt.axvline(x=best_epoch, label='Best epoch', alpha=.3, ls='--', color='#5a9aa5')\n",
    "plt.title('Categorical Crossentropy')\n",
    "plt.legend()\n",
    "plt.grid(alpha=.3)\n",
    "plt.show()\n",
    "\n",
    "plt.figure(figsize=(17,4))\n",
    "plt.plot(history['accuracy'], label='Training accuracy', alpha=.8, color='#ff7f0e')\n",
    "plt.plot(history['val_accuracy'], label='Validation accuracy', alpha=.9, color='#5a9aa5')\n",
    "plt.axvline(x=best_epoch, label='Best epoch', alpha=.3, ls='--', color='#5a9aa5')\n",
    "plt.title('Accuracy')\n",
    "plt.legend()\n",
    "plt.grid(alpha=.3)\n",
    "plt.show()\n",
    "\n",
    "plt.figure(figsize=(18,3))\n",
    "plt.plot(history['lr'], label='Learning Rate', alpha=.8, color='#ff7f0e')\n",
    "plt.axvline(x=best_epoch, label='Best epoch', alpha=.3, ls='--', color='#5a9aa5')\n",
    "plt.legend()\n",
    "plt.grid(alpha=.3)\n",
    "plt.show()"
   ],
   "metadata": {
    "colab": {
     "base_uri": "https://localhost:8080/",
     "height": 739
    },
    "id": "1T6bU2dUCbwW",
    "outputId": "2b6e9cae-9867-490a-92f5-9259c842d80c",
    "pycharm": {
     "name": "#%%\n"
    }
   },
   "execution_count": 32,
   "outputs": [
    {
     "output_type": "display_data",
     "data": {
      "text/plain": [
       "<Figure size 1224x288 with 1 Axes>"
      ],
      "image/png": "[encoded data removed]"
     },
     "metadata": {
      "needs_background": "light"
     }
    },
    {
     "output_type": "display_data",
     "data": {
      "text/plain": [
       "<Figure size 1224x288 with 1 Axes>"
      ],
      "image/png": "[encoded data removed]"
     },
     "metadata": {
      "needs_background": "light"
     }
    },
    {
     "output_type": "display_data",
     "data": {
      "text/plain": [
       "<Figure size 1296x216 with 1 Axes>"
      ],
      "image/png": "[encoded data removed]"
     },
     "metadata": {
      "needs_background": "light"
     }
    }
   ]
  },
  {
   "cell_type": "code",
   "source": [
    "# Compute the prediction on the test set\n",
    "predictions = model.predict(X_test)\n",
    "predictions.shape"
   ],
   "metadata": {
    "colab": {
     "base_uri": "https://localhost:8080/"
    },
    "id": "o4xMNsTIChMX",
    "outputId": "b235aff6-8141-47f6-aaa2-b9e74eca5298",
    "pycharm": {
     "name": "#%%\n"
    }
   },
   "execution_count": 33,
   "outputs": [
    {
     "output_type": "stream",
     "name": "stdout",
     "text": [
      "8/8 [==============================] - 0s 4ms/step\n"
     ]
    },
    {
     "output_type": "execute_result",
     "data": {
      "text/plain": [
       "(243, 12)"
      ]
     },
     "metadata": {},
     "execution_count": 33
    }
   ]
  },
  {
   "cell_type": "code",
   "execution_count": 34,
   "metadata": {
    "id": "8zKR5LqLA-1X",
    "colab": {
     "base_uri": "https://localhost:8080/",
     "height": 566
    },
    "outputId": "5ff99460-8cef-4832-9f08-04287af8d215",
    "pycharm": {
     "name": "#%%\n"
    }
   },
   "outputs": [
    {
     "output_type": "stream",
     "name": "stdout",
     "text": [
      "Accuracy: 0.679\n",
      "Precision: 0.6529\n",
      "Recall: 0.5746\n",
      "F1: 0.5952\n"
     ]
    },
    {
     "output_type": "display_data",
     "data": {
      "text/plain": [
       "<Figure size 720x576 with 2 Axes>"
      ],
      "image/png": "[encoded data removed]"
     },
     "metadata": {
      "needs_background": "light"
     }
    }
   ],
   "source": [
    "# Compute the confusion matrix\n",
    "cm = confusion_matrix(np.argmax(Y_test, axis=-1), np.argmax(predictions, axis=-1))\n",
    "\n",
    "# Compute the classification metrics\n",
    "accuracy = accuracy_score(np.argmax(Y_test, axis=-1), np.argmax(predictions, axis=-1))\n",
    "precision = precision_score(np.argmax(Y_test, axis=-1), np.argmax(predictions, axis=-1), average='macro')\n",
    "recall = recall_score(np.argmax(Y_test, axis=-1), np.argmax(predictions, axis=-1), average='macro')\n",
    "f1 = f1_score(np.argmax(Y_test, axis=-1), np.argmax(predictions, axis=-1), average='macro')\n",
    "print('Accuracy:',accuracy.round(4))\n",
    "print('Precision:',precision.round(4))\n",
    "print('Recall:',recall.round(4))\n",
    "print('F1:',f1.round(4))\n",
    "\n",
    "# Plot the confusion matrix\n",
    "plt.figure(figsize=(10,8))\n",
    "sns.heatmap(cm.T, cmap='Blues', annot=True, xticklabels=list(class_labels), yticklabels=list(class_labels))\n",
    "plt.xlabel('True labels')\n",
    "plt.ylabel('Predicted labels')\n",
    "plt.show()"
   ]
  },
  {
   "cell_type": "code",
   "source": [
    "# Save the model\n",
    "#model.save('Conv1D_model')\n",
    "'''\n",
    "Mean: [8.4409552  11.1070953  21.23054996 27.24076344 30.41101099 26.90711497]\n",
    "Std: [253.58240631 777.2715952  722.72048578 700.70644352 679.74291031 712.47014922]\n",
    "'''"
   ],
   "metadata": {
    "id": "qow2k3idiCN6",
    "pycharm": {
     "name": "#%%\n"
    }
   },
   "execution_count": null,
   "outputs": []
  }
 ],
 "metadata": {
  "accelerator": "GPU",
  "colab": {
   "provenance": []
  },
  "gpuClass": "standard",
  "kernelspec": {
   "display_name": "Python 3",
   "name": "python3"
  },
  "language_info": {
   "name": "python"
  }
 },
 "nbformat": 4,
 "nbformat_minor": 0
}