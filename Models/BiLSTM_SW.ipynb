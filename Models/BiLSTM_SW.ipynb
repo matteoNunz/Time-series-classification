{
 "nbformat": 4,
 "nbformat_minor": 0,
 "metadata": {
  "colab": {
   "provenance": []
  },
  "kernelspec": {
   "name": "python3",
   "display_name": "Python 3"
  },
  "language_info": {
   "name": "python"
  }
 },
 "cells": [
  {
   "cell_type": "code",
   "execution_count": 1,
   "metadata": {
    "colab": {
     "base_uri": "https://localhost:8080/"
    },
    "id": "gYmwJ32KJj9p",
    "outputId": "ca6f75ea-42dc-4fbc-e850-2efee077445e",
    "pycharm": {
     "name": "#%%\n"
    }
   },
   "outputs": [
    {
     "output_type": "stream",
     "name": "stdout",
     "text": [
      "2.9.2\n"
     ]
    }
   ],
   "source": [
    "import matplotlib\n",
    "import tensorflow as tf\n",
    "import numpy as np\n",
    "import os\n",
    "import random\n",
    "import seaborn as sns\n",
    "import matplotlib.pyplot as plt\n",
    "import matplotlib.cm as cm\n",
    "from sklearn.metrics import accuracy_score, f1_score, precision_score, recall_score\n",
    "from sklearn.metrics import confusion_matrix\n",
    "import math\n",
    "\n",
    "tfk = tf.keras\n",
    "tfkl = tf.keras.layers\n",
    "print(tf.__version__)"
   ]
  },
  {
   "cell_type": "code",
   "source": [
    "# Random seed for reproducibility\n",
    "seed = 42\n",
    "\n",
    "random.seed(seed)\n",
    "os.environ['PYTHONHASHSEED'] = str(seed)\n",
    "np.random.seed(seed)\n",
    "tf.random.set_seed(seed)\n",
    "tf.compat.v1.set_random_seed(seed)"
   ],
   "metadata": {
    "id": "mnzS4BKnJuEZ",
    "pycharm": {
     "name": "#%%\n"
    }
   },
   "execution_count": 2,
   "outputs": []
  },
  {
   "cell_type": "code",
   "source": [
    "from google.colab import drive\n",
    "drive.mount('/content/drive')"
   ],
   "metadata": {
    "colab": {
     "base_uri": "https://localhost:8080/"
    },
    "id": "IwueFTEHwISV",
    "outputId": "d55bd226-c0f0-4139-d97c-c61baa7742c5",
    "pycharm": {
     "name": "#%%\n"
    }
   },
   "execution_count": 3,
   "outputs": [
    {
     "output_type": "stream",
     "name": "stdout",
     "text": [
      "Mounted at /content/drive\n"
     ]
    }
   ]
  },
  {
   "cell_type": "code",
   "source": [
    "%cd /content/drive/MyDrive/ANN&DL_Homework2\n",
    "#!unzip training_dataset_homework2.zip"
   ],
   "metadata": {
    "colab": {
     "base_uri": "https://localhost:8080/"
    },
    "id": "YOpULD7vwPHR",
    "outputId": "e4ba8686-8a79-4d7c-b342-49f5c0d08858",
    "pycharm": {
     "name": "#%%\n"
    }
   },
   "execution_count": 4,
   "outputs": [
    {
     "output_type": "stream",
     "name": "stdout",
     "text": [
      "/content/drive/MyDrive/ANN&DL_Homework2\n"
     ]
    }
   ]
  },
  {
   "cell_type": "code",
   "source": [
    "# Load the dataset\n",
    "X = np.load('x_train.npy')\n",
    "Y = np.load('y_train.npy')"
   ],
   "metadata": {
    "id": "UUdLX2IWKU4J",
    "pycharm": {
     "name": "#%%\n"
    }
   },
   "execution_count": 5,
   "outputs": []
  },
  {
   "cell_type": "code",
   "source": [
    "X.shape, Y.shape"
   ],
   "metadata": {
    "colab": {
     "base_uri": "https://localhost:8080/"
    },
    "id": "nyhaMvwoLHZq",
    "outputId": "6e4347aa-7edf-4725-cf5e-e9a648b08723",
    "pycharm": {
     "name": "#%%\n"
    }
   },
   "execution_count": 6,
   "outputs": [
    {
     "output_type": "execute_result",
     "data": {
      "text/plain": [
       "((2429, 36, 6), (2429,))"
      ]
     },
     "metadata": {},
     "execution_count": 6
    }
   ]
  },
  {
   "cell_type": "code",
   "source": [
    "n_classes = len(np.unique(Y))\n",
    "class_labels = np.unique(Y)\n",
    "print(\"There are {} classes\".format(n_classes))\n",
    "print(\"The labels are: {}\".format(class_labels))"
   ],
   "metadata": {
    "colab": {
     "base_uri": "https://localhost:8080/"
    },
    "id": "Gl1DekLbLJHC",
    "outputId": "836ed976-92e7-4296-c9eb-3c1e37df2141",
    "pycharm": {
     "name": "#%%\n"
    }
   },
   "execution_count": 7,
   "outputs": [
    {
     "output_type": "stream",
     "name": "stdout",
     "text": [
      "There are 12 classes\n",
      "The labels are: [ 0  1  2  3  4  5  6  7  8  9 10 11]\n"
     ]
    }
   ]
  },
  {
   "cell_type": "code",
   "source": [
    "# Count the number of samples in each class\n",
    "class_labels_count = []\n",
    "for label in class_labels:\n",
    "  class_labels_count.append(sum([1 if Y[i]==label else 0 for i in range(Y.shape[0])]))\n",
    "\n",
    "for i in range(len(class_labels)):\n",
    "  print(\"For label {} there are {} samples\".format(class_labels[i], class_labels_count[i]))"
   ],
   "metadata": {
    "colab": {
     "base_uri": "https://localhost:8080/"
    },
    "id": "FuTPLSwRNmCI",
    "outputId": "b2791954-098a-4f1f-d8da-97788a919d43",
    "pycharm": {
     "name": "#%%\n"
    }
   },
   "execution_count": 8,
   "outputs": [
    {
     "output_type": "stream",
     "name": "stdout",
     "text": [
      "For label 0 there are 34 samples\n",
      "For label 1 there are 123 samples\n",
      "For label 2 there are 270 samples\n",
      "For label 3 there are 381 samples\n",
      "For label 4 there are 62 samples\n",
      "For label 5 there are 153 samples\n",
      "For label 6 there are 313 samples\n",
      "For label 7 there are 68 samples\n",
      "For label 8 there are 120 samples\n",
      "For label 9 there are 777 samples\n",
      "For label 10 there are 77 samples\n",
      "For label 11 there are 51 samples\n"
     ]
    }
   ]
  },
  {
   "cell_type": "code",
   "source": [
    "# Inspect label distribution\n",
    "plt.figure(figsize=(17,5))\n",
    "plt.bar(x=class_labels, height=class_labels_count)\n",
    "plt.title('Label distributions')\n",
    "plt.show()"
   ],
   "metadata": {
    "colab": {
     "base_uri": "https://localhost:8080/",
     "height": 336
    },
    "id": "cKql1zakMGgD",
    "outputId": "1492a4b8-6f31-4fb3-8173-c082101d56f8",
    "pycharm": {
     "name": "#%%\n"
    }
   },
   "execution_count": 9,
   "outputs": [
    {
     "output_type": "display_data",
     "data": {
      "text/plain": [
       "<Figure size 1224x360 with 1 Axes>"
      ],
      "image/png": "[encoded data removed]"
     },
     "metadata": {
      "needs_background": "light"
     }
    }
   ]
  },
  {
   "cell_type": "code",
   "source": [
    "from sklearn.model_selection import train_test_split\n",
    "\n",
    "# Split the data in train,val and test set\n",
    "X_train_val, X_test, Y_train_val, Y_test = train_test_split(X, Y, test_size=0.21, shuffle=True, random_state=seed, stratify=Y)\n",
    "X_train , X_val, Y_train, Y_val = train_test_split(X_train_val, Y_train_val, test_size=0.1, shuffle=True, random_state=seed, stratify=Y_train_val)\n",
    "\n",
    "X_train.shape, X_val.shape, X_test.shape, Y_train.shape, Y_val.shape, Y_test.shape"
   ],
   "metadata": {
    "colab": {
     "base_uri": "https://localhost:8080/"
    },
    "id": "8oRtNMEzSqoD",
    "outputId": "fc58f255-5053-41e6-b697-319bccfed441",
    "pycharm": {
     "name": "#%%\n"
    }
   },
   "execution_count": 12,
   "outputs": [
    {
     "output_type": "execute_result",
     "data": {
      "text/plain": [
       "((1726, 36, 6), (192, 36, 6), (511, 36, 6), (1726,), (192,), (511,))"
      ]
     },
     "metadata": {},
     "execution_count": 12
    }
   ]
  },
  {
   "cell_type": "code",
   "source": [
    "# Convert the sparse labels to categorical values\n",
    "if len(Y_train.shape) < 2:  # avoid doing it twice\n",
    "    Y_train_val = tfk.utils.to_categorical(Y_train_val)\n",
    "    Y_train = tfk.utils.to_categorical(Y_train)\n",
    "    Y_val = tfk.utils.to_categorical(Y_val)\n",
    "    Y_test = tfk.utils.to_categorical(Y_test)\n",
    "\n",
    "Y_train.shape, Y_val.shape, Y_test.shape"
   ],
   "metadata": {
    "colab": {
     "base_uri": "https://localhost:8080/"
    },
    "id": "bGqoit7kjG0m",
    "outputId": "43cc0698-7df9-4cd5-d896-d82691b6742a",
    "pycharm": {
     "name": "#%%\n"
    }
   },
   "execution_count": 13,
   "outputs": [
    {
     "output_type": "execute_result",
     "data": {
      "text/plain": [
       "((1726, 12), (192, 12), (511, 12))"
      ]
     },
     "metadata": {},
     "execution_count": 13
    }
   ]
  },
  {
   "cell_type": "code",
   "execution_count": 14,
   "outputs": [],
   "source": [
    "X_train_by_label = {}\n",
    "for i in range(n_classes):\n",
    "    X_train_by_label[i] = X_train[Y_train[:, i] == True]"
   ],
   "metadata": {
    "id": "m3jIl3Z6mnEm",
    "pycharm": {
     "name": "#%%\n"
    }
   }
  },
  {
   "cell_type": "code",
   "execution_count": null,
   "outputs": [],
   "source": [
    "fig,ax = plt.subplots(n_classes, 6, figsize=(30, n_classes*2))\n",
    "for cl in range(n_classes):\n",
    "    for f in range(6):\n",
    "        ax[cl, f].plot(X_train_by_label[cl][0,:,f], color='blue')"
   ],
   "metadata": {
    "id": "6i-JtXLWmnEn",
    "pycharm": {
     "name": "#%%\n"
    }
   }
  },
  {
   "cell_type": "code",
   "execution_count": 17,
   "outputs": [],
   "source": [
    "def create_sliding(data, window_size):\n",
    "    \"\"\"\n",
    "    Method that given the data in input, divide it according to the window size\n",
    "      creating different smaller datasets\n",
    "    \"\"\"\n",
    "    out = np.lib.stride_tricks.sliding_window_view(data, window_size, axis=1)\n",
    "    out = np.moveaxis(out, 3, 1)\n",
    "    return out"
   ],
   "metadata": {
    "id": "FcT9__Z-mnEo",
    "pycharm": {
     "name": "#%%\n"
    }
   }
  },
  {
   "cell_type": "code",
   "execution_count": 18,
   "outputs": [
    {
     "output_type": "execute_result",
     "data": {
      "text/plain": [
       "((1726, 30, 7, 6), (1726, 30, 6))"
      ]
     },
     "metadata": {},
     "execution_count": 18
    }
   ],
   "source": [
    "# Setting the window size to 30\n",
    "w_size = 30\n",
    "X_train_sliding = create_sliding(X_train, w_size)\n",
    "X_val_sliding = create_sliding(X_val, w_size)\n",
    "\n",
    "X_train_sliding.shape, X_train_sliding[:, :, 0, :].shape"
   ],
   "metadata": {
    "colab": {
     "base_uri": "https://localhost:8080/"
    },
    "id": "IwpyWPKhmnEo",
    "outputId": "9100587a-d145-4994-ecdd-5d6c2cae8c90",
    "pycharm": {
     "name": "#%%\n"
    }
   }
  },
  {
   "cell_type": "code",
   "source": [
    "def fit_model(train_data, train_labels, val_data, val_labels):\n",
    "    input_shape = train_data.shape[1:]\n",
    "    classes = train_labels.shape[-1]\n",
    "    batch_size = 128\n",
    "    epochs = 300\n",
    "\n",
    "    # Define the model\n",
    "    model = tfk.Sequential([\n",
    "        tfkl.Input(shape=input_shape),\n",
    "        tfkl.Bidirectional(tfkl.LSTM(128, return_sequences=True)),\n",
    "        tfkl.Bidirectional(tfkl.LSTM(128)),\n",
    "        tfkl.Dense(128, activation='relu'),\n",
    "        tfkl.Dropout(.5, seed=seed),\n",
    "        tfkl.Dense(classes, activation='softmax')\n",
    "    ])\n",
    "\n",
    "    # Compile the model\n",
    "    model.compile(loss=tfk.losses.CategoricalCrossentropy(), optimizer=tfk.optimizers.Adam(), metrics='accuracy')\n",
    "    #model.summary()\n",
    "\n",
    "    model.fit(\n",
    "        x = train_data,\n",
    "        y = train_labels,\n",
    "        batch_size = batch_size,\n",
    "        epochs = epochs,\n",
    "        validation_data=(val_data, val_labels),\n",
    "        verbose=0,\n",
    "        callbacks = [\n",
    "            tfk.callbacks.EarlyStopping(monitor='val_accuracy', mode='max', patience=15, restore_best_weights=True),\n",
    "            tfk.callbacks.ReduceLROnPlateau(monitor='val_accuracy', mode='max', patience=5, factor=0.5, min_lr=1e-5)\n",
    "        ]\n",
    "    )\n",
    "\n",
    "    return model"
   ],
   "metadata": {
    "id": "8eEKyMb8mES-",
    "pycharm": {
     "name": "#%%\n"
    }
   },
   "execution_count": 19,
   "outputs": []
  },
  {
   "cell_type": "code",
   "execution_count": 20,
   "outputs": [],
   "source": [
    "def eval_model(model):\n",
    "    # Predict the test set\n",
    "    predictions = model.predict(X_test)\n",
    "\n",
    "    # Compute the classification metrics\n",
    "    accuracy = accuracy_score(np.argmax(Y_test, axis=-1), np.argmax(predictions, axis=-1))\n",
    "    precision = precision_score(np.argmax(Y_test, axis=-1), np.argmax(predictions, axis=-1), average='macro')\n",
    "    recall = recall_score(np.argmax(Y_test, axis=-1), np.argmax(predictions, axis=-1), average='macro')\n",
    "    f1 = f1_score(np.argmax(Y_test, axis=-1), np.argmax(predictions, axis=-1), average='macro')\n",
    "    print('Accuracy:',accuracy.round(4))\n",
    "    print('Precision:',precision.round(4))\n",
    "    print('Recall:',recall.round(4))\n",
    "    print('F1:',f1.round(4))"
   ],
   "metadata": {
    "id": "-J7IDqUGmnEq",
    "pycharm": {
     "name": "#%%\n"
    }
   }
  },
  {
   "cell_type": "code",
   "execution_count": null,
   "outputs": [],
   "source": [
    "from tqdm import tqdm\n",
    "\n",
    "# This code is for finding the best window size\n",
    "\n",
    "'''\n",
    "best_accuracy = 0.0\n",
    "best_prediction = []\n",
    "best_models = {}\n",
    "\n",
    "\n",
    "for window in range(2, 36, 2):\n",
    "  print(\"Windows is {}\".format(window))\n",
    "  w_size = window\n",
    "  X_train_sliding = create_sliding(X_train, w_size)\n",
    "  X_val_sliding = create_sliding(X_val, w_size)\n",
    "\n",
    "  X_train_sliding.shape, X_train_sliding[:, :, 0, :].shape\n",
    "\n",
    "  models = {}\n",
    "\n",
    "  print(\"Training the models\")\n",
    "  for w in tqdm(range(X_train.shape[1] - w_size + 1)):\n",
    "      X_train_w = X_train_sliding[:, :, w, :]\n",
    "      X_val_w = X_val_sliding[:, :, w, :]\n",
    "      models[w] = fit_model(X_train_w, Y_train, X_val_w, Y_val)\n",
    "\n",
    "  X_test_sliding = create_sliding(X_test, w_size)\n",
    "  preds = {}\n",
    "  accuracies = {}\n",
    "  for w in range(X_test.shape[1] - w_size + 1):\n",
    "    preds[w] = models[w].predict(X_test_sliding[:,:,w,:])\n",
    "    accuracies[w] = accuracy_score(np.argmax(Y_test, axis=-1), np.argmax(preds[w], axis=-1))\n",
    "\n",
    "  pred = np.asarray(list(preds.values()))\n",
    "  acc = np.asarray(list(accuracies.values()))\n",
    "\n",
    "  pred_ens = np.average(pred, weights=acc, axis=0)\n",
    "  accuracy=accuracy_score(np.argmax(Y_test, axis=-1), np.argmax(pred_ens, axis=-1))\n",
    "\n",
    "  print(\"The current accuracy is {}\".format(round(accuracy, 4)))\n",
    "  print(\"The best accuracy is {}\".format(round(best_accuracy, 4)))\n",
    "\n",
    "  if accuracy > best_accuracy:\n",
    "    best_accuracy = accuracy\n",
    "    best_prediction = pred_ens\n",
    "    best_models = models\n",
    "'''"
   ],
   "metadata": {
    "id": "9Y9pYwuCmnEq",
    "pycharm": {
     "name": "#%%\n"
    }
   }
  },
  {
   "cell_type": "code",
   "source": [
    "models = {}\n",
    "\n",
    "print(\"Training the models\")\n",
    "for w in tqdm(range(X_train.shape[1] - w_size + 1)):\n",
    "    X_train_w = X_train_sliding[:, :, w, :]\n",
    "    X_val_w = X_val_sliding[:, :, w, :]\n",
    "    # Fit a model for each dataset \n",
    "    models[w] = fit_model(X_train_w, Y_train, X_val_w, Y_val)"
   ],
   "metadata": {
    "colab": {
     "base_uri": "https://localhost:8080/"
    },
    "id": "hrOSRDvz-ahI",
    "outputId": "5974b3e5-9801-4857-dfdf-ed21856b15fd",
    "pycharm": {
     "name": "#%%\n"
    }
   },
   "execution_count": 23,
   "outputs": [
    {
     "output_type": "stream",
     "name": "stdout",
     "text": [
      "Training the models\n"
     ]
    },
    {
     "output_type": "stream",
     "name": "stderr",
     "text": [
      "100%|██████████| 7/7 [26:30<00:00, 227.28s/it]\n"
     ]
    }
   ]
  },
  {
   "cell_type": "code",
   "execution_count": 24,
   "outputs": [
    {
     "output_type": "execute_result",
     "data": {
      "text/plain": [
       "{0: <keras.engine.sequential.Sequential at 0x7efd9a3a8340>,\n",
       " 1: <keras.engine.sequential.Sequential at 0x7efd8da8f700>,\n",
       " 2: <keras.engine.sequential.Sequential at 0x7efd8fa6cc70>,\n",
       " 3: <keras.engine.sequential.Sequential at 0x7efd8aa2ceb0>,\n",
       " 4: <keras.engine.sequential.Sequential at 0x7efd8b217be0>,\n",
       " 5: <keras.engine.sequential.Sequential at 0x7efd87ca2640>,\n",
       " 6: <keras.engine.sequential.Sequential at 0x7efd837392b0>}"
      ]
     },
     "metadata": {},
     "execution_count": 24
    }
   ],
   "source": [
    "models"
   ],
   "metadata": {
    "colab": {
     "base_uri": "https://localhost:8080/"
    },
    "id": "1vCqlOctmnEr",
    "outputId": "084a5300-fb26-4852-bfa3-2cb4dabc4a9c",
    "pycharm": {
     "name": "#%%\n"
    }
   }
  },
  {
   "cell_type": "code",
   "execution_count": 25,
   "outputs": [
    {
     "output_type": "stream",
     "name": "stdout",
     "text": [
      "16/16 [==============================] - 3s 69ms/step\n",
      "Window:  0  Accuracy: 0.591\n",
      "16/16 [==============================] - 3s 69ms/step\n",
      "Window:  1  Accuracy: 0.6106\n",
      "16/16 [==============================] - 3s 69ms/step\n",
      "Window:  2  Accuracy: 0.5851\n",
      "16/16 [==============================] - 3s 69ms/step\n",
      "Window:  3  Accuracy: 0.6086\n",
      "16/16 [==============================] - 3s 76ms/step\n",
      "Window:  4  Accuracy: 0.6223\n",
      "16/16 [==============================] - 3s 67ms/step\n",
      "Window:  5  Accuracy: 0.6321\n",
      "16/16 [==============================] - 3s 70ms/step\n",
      "Window:  6  Accuracy: 0.638\n"
     ]
    }
   ],
   "source": [
    "X_test_sliding = create_sliding(X_test, w_size)\n",
    "preds = {}\n",
    "accuracies = {}\n",
    "for w in range(X_test.shape[1] - w_size + 1):\n",
    "    # Make the predictions for each model\n",
    "    preds[w] = models[w].predict(X_test_sliding[:,:,w,:])\n",
    "    # Compute the accuracy of the model\n",
    "    accuracies[w] = accuracy_score(np.argmax(Y_test, axis=-1), np.argmax(preds[w], axis=-1))\n",
    "    print('Window: ',w,' Accuracy:',accuracies[w].round(4))"
   ],
   "metadata": {
    "colab": {
     "base_uri": "https://localhost:8080/"
    },
    "id": "T9-qhq7kmnEr",
    "outputId": "fcf49723-6772-4a8e-fe90-b94a66f43c60",
    "pycharm": {
     "name": "#%%\n"
    }
   }
  },
  {
   "cell_type": "code",
   "execution_count": 26,
   "outputs": [
    {
     "output_type": "execute_result",
     "data": {
      "text/plain": [
       "((7, 511, 12), (7,))"
      ]
     },
     "metadata": {},
     "execution_count": 26
    }
   ],
   "source": [
    "np.asarray(list(preds.values())).shape, np.asarray(list(accuracies.values())).shape"
   ],
   "metadata": {
    "colab": {
     "base_uri": "https://localhost:8080/"
    },
    "id": "r2Ijs2EwmnEs",
    "outputId": "d0ec282b-3b56-440a-926f-e530fbfdc7b4",
    "pycharm": {
     "name": "#%%\n"
    }
   }
  },
  {
   "cell_type": "code",
   "execution_count": 27,
   "outputs": [],
   "source": [
    "pred = np.asarray(list(preds.values()))\n",
    "acc = np.asarray(list(accuracies.values()))"
   ],
   "metadata": {
    "id": "Noi0bVSWmnEs",
    "pycharm": {
     "name": "#%%\n"
    }
   }
  },
  {
   "cell_type": "code",
   "execution_count": 28,
   "outputs": [
    {
     "output_type": "stream",
     "name": "stdout",
     "text": [
      "Accuracy: 0.6673\n",
      "Accuracy (no weight): 0.6654\n"
     ]
    }
   ],
   "source": [
    "# Ensamble the models using the accuracy as weights\n",
    "pred_ens = np.average(pred, weights=acc, axis=0)\n",
    "accuracy=accuracy_score(np.argmax(Y_test, axis=-1), np.argmax(pred_ens, axis=-1))\n",
    "print('Accuracy:',accuracy.round(4))\n",
    "\n",
    "# Ensamble the models simply averaging them\n",
    "pred_ens_nw = np.sum(pred, axis=0)\n",
    "accuracy_nw=accuracy_score(np.argmax(Y_test, axis=-1), np.argmax(pred_ens_nw, axis=-1))\n",
    "print('Accuracy (no weight):',accuracy_nw.round(4))"
   ],
   "metadata": {
    "colab": {
     "base_uri": "https://localhost:8080/"
    },
    "id": "U2lZO3zvmnEt",
    "outputId": "80c90f90-7b58-4d23-c70f-2cd159c81f1a",
    "pycharm": {
     "name": "#%%\n"
    }
   }
  },
  {
   "cell_type": "code",
   "source": [
    "# Compute the confusion matrix\n",
    "cm = confusion_matrix(np.argmax(Y_test, axis=-1), np.argmax(pred_ens_nw, axis=-1), normalize='true')\n",
    "\n",
    "# Plot the confusion matrix\n",
    "plt.figure(figsize=(10,8))\n",
    "plt.rc('font', size=11)\n",
    "sns.heatmap(cm.T, cmap='Blues', xticklabels=list(class_labels), yticklabels=list(class_labels), annot=True)\n",
    "plt.xlabel('True labels')\n",
    "plt.ylabel('Predicted labels')\n",
    "plt.show()"
   ],
   "metadata": {
    "colab": {
     "base_uri": "https://localhost:8080/",
     "height": 497
    },
    "id": "IlUE3Yv1nNjc",
    "outputId": "c866d22e-3372-419e-d89b-ac9d5cdb8072",
    "pycharm": {
     "name": "#%%\n"
    }
   },
   "execution_count": 29,
   "outputs": [
    {
     "output_type": "display_data",
     "data": {
      "text/plain": [
       "<Figure size 720x576 with 2 Axes>"
      ],
      "image/png": "[encoded data removed]"
     },
     "metadata": {
      "needs_background": "light"
     }
    }
   ]
  },
  {
   "cell_type": "code",
   "source": [
    "# Save the models\n",
    "#for i, m in models.items():\n",
    "#    m.save('SW_Models/'+str(i)+'/')"
   ],
   "metadata": {
    "id": "rvX2GIHWmy6o",
    "pycharm": {
     "name": "#%%\n"
    }
   },
   "execution_count": null,
   "outputs": []
  },
  {
   "cell_type": "code",
   "execution_count": null,
   "outputs": [],
   "source": [],
   "metadata": {
    "id": "c-Qc_FGImnEu",
    "pycharm": {
     "name": "#%%\n"
    }
   }
  }
 ]
}